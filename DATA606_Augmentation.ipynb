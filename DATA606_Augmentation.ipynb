{
  "nbformat": 4,
  "nbformat_minor": 0,
  "metadata": {
    "colab": {
      "name": "DATA606_Augmentation.ipynb",
      "provenance": [],
      "authorship_tag": "ABX9TyPa/ZffneKQ9i7fw1Wjbjny",
      "include_colab_link": true
    },
    "kernelspec": {
      "name": "python3",
      "display_name": "Python 3"
    },
    "language_info": {
      "name": "python"
    }
  },
  "cells": [
    {
      "cell_type": "markdown",
      "metadata": {
        "id": "view-in-github",
        "colab_type": "text"
      },
      "source": [
        "<a href=\"https://colab.research.google.com/github/ShrimanthAM/DATA606Project/blob/main/DATA606_Augmentation.ipynb\" target=\"_parent\"><img src=\"https://colab.research.google.com/assets/colab-badge.svg\" alt=\"Open In Colab\"/></a>"
      ]
    },
    {
      "cell_type": "code",
      "metadata": {
        "colab": {
          "base_uri": "https://localhost:8080/"
        },
        "id": "Hw2O3hkNMKKP",
        "outputId": "b69ddda0-e810-4174-e3f1-f36730ff8818"
      },
      "source": [
        "# importing all the required libraries\n",
        "from google.colab import drive\n",
        "drive.mount('/content/gdrive/')\n",
        "\n",
        "import sys\n",
        "sys.path.append('/content/gdrive/MyDrive/DATA606/GoogleImages/data')\n",
        "\n",
        "import numpy as np\n",
        "import seaborn as sns\n",
        "import matplotlib.pyplot as plt\n",
        "from matplotlib.pyplot import imshow\n",
        "import pandas as pd\n",
        "from PIL import Image\n",
        "import os\n",
        "\n",
        "import warnings\n",
        "warnings.filterwarnings('ignore')\n",
        "\n",
        "import skimage.io as io\n",
        "from skimage.transform import rotate\n",
        "from skimage import img_as_ubyte\n",
        "import cv2"
      ],
      "execution_count": 41,
      "outputs": [
        {
          "output_type": "stream",
          "text": [
            "Drive already mounted at /content/gdrive/; to attempt to forcibly remount, call drive.mount(\"/content/gdrive/\", force_remount=True).\n"
          ],
          "name": "stdout"
        }
      ]
    },
    {
      "cell_type": "code",
      "metadata": {
        "id": "7-JR_UufOpQ3"
      },
      "source": [
        "img_folder = '/content/gdrive/MyDrive/DATA606/GoogleImages/data/images'\n",
        "augmented_img = '/content/gdrive/MyDrive/DATA606/GoogleImages/data/augmented_images'"
      ],
      "execution_count": 42,
      "outputs": []
    },
    {
      "cell_type": "code",
      "metadata": {
        "colab": {
          "base_uri": "https://localhost:8080/"
        },
        "id": "9OOv04LjOpWM",
        "outputId": "bc4f6a87-f4d9-44d6-8cd6-6fed3e26b2a2"
      },
      "source": [
        "#load the path of each image in  the list \n",
        "images=[]\n",
        "for imgs in os.listdir(img_folder):\n",
        "  images.append(os.path.join(img_folder,imgs))\n",
        "\n",
        "print(images)"
      ],
      "execution_count": 43,
      "outputs": [
        {
          "output_type": "stream",
          "text": [
            "['/content/gdrive/MyDrive/DATA606/GoogleImages/data/images/cdba407d3c.jpg', '/content/gdrive/MyDrive/DATA606/GoogleImages/data/images/76589d3af1.jpg', '/content/gdrive/MyDrive/DATA606/GoogleImages/data/images/5870a297d4.jpg', '/content/gdrive/MyDrive/DATA606/GoogleImages/data/images/ddecbd5329.jpg', '/content/gdrive/MyDrive/DATA606/GoogleImages/data/images/60c98f6dff.jpg', '/content/gdrive/MyDrive/DATA606/GoogleImages/data/images/e2a78c9887.jpg', '/content/gdrive/MyDrive/DATA606/GoogleImages/data/images/301cb27349.jpg', '/content/gdrive/MyDrive/DATA606/GoogleImages/data/images/28d6faa8cb.jpg', '/content/gdrive/MyDrive/DATA606/GoogleImages/data/images/5c88452ec9.jpg', '/content/gdrive/MyDrive/DATA606/GoogleImages/data/images/5e6f125b02.jpg', '/content/gdrive/MyDrive/DATA606/GoogleImages/data/images/c4ff44bda7.jpg', '/content/gdrive/MyDrive/DATA606/GoogleImages/data/images/d75fcc23c2.jpg', '/content/gdrive/MyDrive/DATA606/GoogleImages/data/images/e7c6fe887c.jpg', '/content/gdrive/MyDrive/DATA606/GoogleImages/data/images/10af8878ad.jpg', '/content/gdrive/MyDrive/DATA606/GoogleImages/data/images/6c51bdb00f.jpg', '/content/gdrive/MyDrive/DATA606/GoogleImages/data/images/970d0cb44c.jpg', '/content/gdrive/MyDrive/DATA606/GoogleImages/data/images/9b884e2e85.jpg', '/content/gdrive/MyDrive/DATA606/GoogleImages/data/images/1fdc7c9ae2.jpg', '/content/gdrive/MyDrive/DATA606/GoogleImages/data/images/5674c9624f.jpg', '/content/gdrive/MyDrive/DATA606/GoogleImages/data/images/eb10a2045f.jpg', '/content/gdrive/MyDrive/DATA606/GoogleImages/data/images/93fccd8198.jpg', '/content/gdrive/MyDrive/DATA606/GoogleImages/data/images/32ac9699c2.jpg', '/content/gdrive/MyDrive/DATA606/GoogleImages/data/images/123c0c7652.jpg', '/content/gdrive/MyDrive/DATA606/GoogleImages/data/images/3a379494a4.jpg', '/content/gdrive/MyDrive/DATA606/GoogleImages/data/images/e0de9104fd.jpg', '/content/gdrive/MyDrive/DATA606/GoogleImages/data/images/5149e82e57.jpg', '/content/gdrive/MyDrive/DATA606/GoogleImages/data/images/aefecc64e8.jpg', '/content/gdrive/MyDrive/DATA606/GoogleImages/data/images/9d0d5f62c8.jpg', '/content/gdrive/MyDrive/DATA606/GoogleImages/data/images/efbddbc5fd.jpg', '/content/gdrive/MyDrive/DATA606/GoogleImages/data/images/7756dd8e96.jpg', '/content/gdrive/MyDrive/DATA606/GoogleImages/data/images/f78b5baa30.jpg', '/content/gdrive/MyDrive/DATA606/GoogleImages/data/images/a1dd1c1bcb.jpg', '/content/gdrive/MyDrive/DATA606/GoogleImages/data/images/6526e20291.jpg', '/content/gdrive/MyDrive/DATA606/GoogleImages/data/images/591023cbaf.jpg', '/content/gdrive/MyDrive/DATA606/GoogleImages/data/images/88bbf99a6c.jpg', '/content/gdrive/MyDrive/DATA606/GoogleImages/data/images/dc6803fded.jpg', '/content/gdrive/MyDrive/DATA606/GoogleImages/data/images/237ae2ce74.jpg', '/content/gdrive/MyDrive/DATA606/GoogleImages/data/images/cc824c4313.jpg', '/content/gdrive/MyDrive/DATA606/GoogleImages/data/images/4dfea488d6.jpg', '/content/gdrive/MyDrive/DATA606/GoogleImages/data/images/f6c8dc21e6.jpg', '/content/gdrive/MyDrive/DATA606/GoogleImages/data/images/e307edde61.jpg', '/content/gdrive/MyDrive/DATA606/GoogleImages/data/images/156937c33f.jpg', '/content/gdrive/MyDrive/DATA606/GoogleImages/data/images/35cc9fc8d4.jpg', '/content/gdrive/MyDrive/DATA606/GoogleImages/data/images/b2ec516d83.jpg', '/content/gdrive/MyDrive/DATA606/GoogleImages/data/images/07be4f3426.jpg', '/content/gdrive/MyDrive/DATA606/GoogleImages/data/images/b66362c1e1.jpg', '/content/gdrive/MyDrive/DATA606/GoogleImages/data/images/9c5d856487.jpg', '/content/gdrive/MyDrive/DATA606/GoogleImages/data/images/1b55839d44.jpg', '/content/gdrive/MyDrive/DATA606/GoogleImages/data/images/4be1df42ee.jpg', '/content/gdrive/MyDrive/DATA606/GoogleImages/data/images/56b21c32e6.jpg', '/content/gdrive/MyDrive/DATA606/GoogleImages/data/images/11bd2410be.jpg', '/content/gdrive/MyDrive/DATA606/GoogleImages/data/images/9c395bf2a8.jpg', '/content/gdrive/MyDrive/DATA606/GoogleImages/data/images/78753a86d2.jpg', '/content/gdrive/MyDrive/DATA606/GoogleImages/data/images/293deec779.jpg', '/content/gdrive/MyDrive/DATA606/GoogleImages/data/images/7a15734a4d.jpg', '/content/gdrive/MyDrive/DATA606/GoogleImages/data/images/817bb3af93.jpg', '/content/gdrive/MyDrive/DATA606/GoogleImages/data/images/4906fabf9e.jpg', '/content/gdrive/MyDrive/DATA606/GoogleImages/data/images/a83fe166fb.jpg', '/content/gdrive/MyDrive/DATA606/GoogleImages/data/images/494e159c9f.jpg', '/content/gdrive/MyDrive/DATA606/GoogleImages/data/images/634cc478ff.jpg', '/content/gdrive/MyDrive/DATA606/GoogleImages/data/images/9f066947c8.jpg', '/content/gdrive/MyDrive/DATA606/GoogleImages/data/images/45248fa5af.jpg', '/content/gdrive/MyDrive/DATA606/GoogleImages/data/images/00d58c45ca.jpg', '/content/gdrive/MyDrive/DATA606/GoogleImages/data/images/40754a069f.jpg', '/content/gdrive/MyDrive/DATA606/GoogleImages/data/images/bab3fd0505.jpg', '/content/gdrive/MyDrive/DATA606/GoogleImages/data/images/21fc617b4b.jpg', '/content/gdrive/MyDrive/DATA606/GoogleImages/data/images/01c53361f1.jpg', '/content/gdrive/MyDrive/DATA606/GoogleImages/data/images/0f69014c64.jpg', '/content/gdrive/MyDrive/DATA606/GoogleImages/data/images/664af5ecdf.jpg', '/content/gdrive/MyDrive/DATA606/GoogleImages/data/images/900910d30a.jpg', '/content/gdrive/MyDrive/DATA606/GoogleImages/data/images/82910fa9e4.jpg', '/content/gdrive/MyDrive/DATA606/GoogleImages/data/images/d4104fc760.jpg', '/content/gdrive/MyDrive/DATA606/GoogleImages/data/images/72a1ae5d4a.jpg', '/content/gdrive/MyDrive/DATA606/GoogleImages/data/images/5b7815e580.jpg', '/content/gdrive/MyDrive/DATA606/GoogleImages/data/images/9c3508e28f.jpg', '/content/gdrive/MyDrive/DATA606/GoogleImages/data/images/b83fcfb647.jpg', '/content/gdrive/MyDrive/DATA606/GoogleImages/data/images/92bc2de148.jpg', '/content/gdrive/MyDrive/DATA606/GoogleImages/data/images/2242ccea8e.jpg', '/content/gdrive/MyDrive/DATA606/GoogleImages/data/images/3b7c5363a8.jpg', '/content/gdrive/MyDrive/DATA606/GoogleImages/data/images/e295b7b3a7.jpg', '/content/gdrive/MyDrive/DATA606/GoogleImages/data/images/b937738a7e.jpg', '/content/gdrive/MyDrive/DATA606/GoogleImages/data/images/d7d325926b.jpg', '/content/gdrive/MyDrive/DATA606/GoogleImages/data/images/60be1a17dd.jpg', '/content/gdrive/MyDrive/DATA606/GoogleImages/data/images/2c6e3446eb.jpg', '/content/gdrive/MyDrive/DATA606/GoogleImages/data/images/8ef94e1d7f.jpg', '/content/gdrive/MyDrive/DATA606/GoogleImages/data/images/f6e68176f3.jpg', '/content/gdrive/MyDrive/DATA606/GoogleImages/data/images/cb671b227c.jpg', '/content/gdrive/MyDrive/DATA606/GoogleImages/data/images/16cbd6e10b.jpg', '/content/gdrive/MyDrive/DATA606/GoogleImages/data/images/fd86d7ea14.jpg', '/content/gdrive/MyDrive/DATA606/GoogleImages/data/images/c6e30b9202.jpg', '/content/gdrive/MyDrive/DATA606/GoogleImages/data/images/b2ae672938.jpg', '/content/gdrive/MyDrive/DATA606/GoogleImages/data/images/d4a35a7c42.jpg', '/content/gdrive/MyDrive/DATA606/GoogleImages/data/images/032b1d8b38.jpg', '/content/gdrive/MyDrive/DATA606/GoogleImages/data/images/2a69d4619e.jpg', '/content/gdrive/MyDrive/DATA606/GoogleImages/data/images/e182915500.jpg', '/content/gdrive/MyDrive/DATA606/GoogleImages/data/images/484fcbf24d.jpg', '/content/gdrive/MyDrive/DATA606/GoogleImages/data/images/ea329aa838.jpg', '/content/gdrive/MyDrive/DATA606/GoogleImages/data/images/5594b95c8e.jpg', '/content/gdrive/MyDrive/DATA606/GoogleImages/data/images/f715a355bb.jpg', '/content/gdrive/MyDrive/DATA606/GoogleImages/data/images/76723f3a87.jpg', '/content/gdrive/MyDrive/DATA606/GoogleImages/data/images/7825a04289.jpg', '/content/gdrive/MyDrive/DATA606/GoogleImages/data/images/421c529e42.jpg', '/content/gdrive/MyDrive/DATA606/GoogleImages/data/images/3ead931cdd.jpg', '/content/gdrive/MyDrive/DATA606/GoogleImages/data/images/462709ca9e.jpg', '/content/gdrive/MyDrive/DATA606/GoogleImages/data/images/ed091c5242.jpg', '/content/gdrive/MyDrive/DATA606/GoogleImages/data/images/9ec756892e.jpg', '/content/gdrive/MyDrive/DATA606/GoogleImages/data/images/27a7ea88bf.jpg', '/content/gdrive/MyDrive/DATA606/GoogleImages/data/images/f3fa15ee6e.jpg', '/content/gdrive/MyDrive/DATA606/GoogleImages/data/images/3a0c24422d.jpg', '/content/gdrive/MyDrive/DATA606/GoogleImages/data/images/95e43bf8ae.jpg', '/content/gdrive/MyDrive/DATA606/GoogleImages/data/images/9b1ce34ee6.jpg', '/content/gdrive/MyDrive/DATA606/GoogleImages/data/images/9026ab1c36.jpg', '/content/gdrive/MyDrive/DATA606/GoogleImages/data/images/462298b3be.jpg', '/content/gdrive/MyDrive/DATA606/GoogleImages/data/images/e43ffff223.jpg', '/content/gdrive/MyDrive/DATA606/GoogleImages/data/images/548f733642.jpg', '/content/gdrive/MyDrive/DATA606/GoogleImages/data/images/591593cbf7.jpg', '/content/gdrive/MyDrive/DATA606/GoogleImages/data/images/07b22d4b2d.jpg', '/content/gdrive/MyDrive/DATA606/GoogleImages/data/images/11e5eda596.jpg', '/content/gdrive/MyDrive/DATA606/GoogleImages/data/images/4a88a5d4b6.jpg', '/content/gdrive/MyDrive/DATA606/GoogleImages/data/images/3e62799187.jpg', '/content/gdrive/MyDrive/DATA606/GoogleImages/data/images/474c851fca.jpg', '/content/gdrive/MyDrive/DATA606/GoogleImages/data/images/fc0238b881.jpg', '/content/gdrive/MyDrive/DATA606/GoogleImages/data/images/f8561f5341.jpg', '/content/gdrive/MyDrive/DATA606/GoogleImages/data/images/c72f506b9a.jpg', '/content/gdrive/MyDrive/DATA606/GoogleImages/data/images/6a3cbde87e.jpg', '/content/gdrive/MyDrive/DATA606/GoogleImages/data/images/5ebfc27f37.jpg', '/content/gdrive/MyDrive/DATA606/GoogleImages/data/images/4b6ba6bd72.jpg', '/content/gdrive/MyDrive/DATA606/GoogleImages/data/images/cbaf123e4d.jpg', '/content/gdrive/MyDrive/DATA606/GoogleImages/data/images/aced6988fe.jpg', '/content/gdrive/MyDrive/DATA606/GoogleImages/data/images/42014518d5.jpg', '/content/gdrive/MyDrive/DATA606/GoogleImages/data/images/befda62282.jpg', '/content/gdrive/MyDrive/DATA606/GoogleImages/data/images/b53d5d7667.jpg', '/content/gdrive/MyDrive/DATA606/GoogleImages/data/images/26eef9c408.jpg', '/content/gdrive/MyDrive/DATA606/GoogleImages/data/images/ccb45b227c.jpg', '/content/gdrive/MyDrive/DATA606/GoogleImages/data/images/585cbfaed5.jpg', '/content/gdrive/MyDrive/DATA606/GoogleImages/data/images/c33ecf47be.jpg', '/content/gdrive/MyDrive/DATA606/GoogleImages/data/images/b6cf4d50bc.jpg', '/content/gdrive/MyDrive/DATA606/GoogleImages/data/images/29d43c238c.jpg', '/content/gdrive/MyDrive/DATA606/GoogleImages/data/images/8537b6d45b.jpg', '/content/gdrive/MyDrive/DATA606/GoogleImages/data/images/7d9472286b.jpg', '/content/gdrive/MyDrive/DATA606/GoogleImages/data/images/cd6517136d.jpg', '/content/gdrive/MyDrive/DATA606/GoogleImages/data/images/7e72beda30.jpg', '/content/gdrive/MyDrive/DATA606/GoogleImages/data/images/4578ba0b20.jpg', '/content/gdrive/MyDrive/DATA606/GoogleImages/data/images/7bd09b6b55.jpg', '/content/gdrive/MyDrive/DATA606/GoogleImages/data/images/dec8ed82bc.jpg', '/content/gdrive/MyDrive/DATA606/GoogleImages/data/images/66ed5c2a53.jpg', '/content/gdrive/MyDrive/DATA606/GoogleImages/data/images/6fe9d8c830.jpg', '/content/gdrive/MyDrive/DATA606/GoogleImages/data/images/d7e80279b4.jpg', '/content/gdrive/MyDrive/DATA606/GoogleImages/data/images/df86d9236b.jpg', '/content/gdrive/MyDrive/DATA606/GoogleImages/data/images/cf965cbe2c.jpg', '/content/gdrive/MyDrive/DATA606/GoogleImages/data/images/dd7d6f4414.jpg', '/content/gdrive/MyDrive/DATA606/GoogleImages/data/images/d0669b583c.jpg', '/content/gdrive/MyDrive/DATA606/GoogleImages/data/images/f060dac6c1.jpg', '/content/gdrive/MyDrive/DATA606/GoogleImages/data/images/49cf71d1ec.jpg', '/content/gdrive/MyDrive/DATA606/GoogleImages/data/images/83c82a1b89.jpg', '/content/gdrive/MyDrive/DATA606/GoogleImages/data/images/f59c033d15.jpg', '/content/gdrive/MyDrive/DATA606/GoogleImages/data/images/c0be00082b.jpg', '/content/gdrive/MyDrive/DATA606/GoogleImages/data/images/ae7ceaa0a0.jpg', '/content/gdrive/MyDrive/DATA606/GoogleImages/data/images/6eaa2340ac.jpg', '/content/gdrive/MyDrive/DATA606/GoogleImages/data/images/fd9856f6d9.jpg', '/content/gdrive/MyDrive/DATA606/GoogleImages/data/images/8ae1afddaf.jpg', '/content/gdrive/MyDrive/DATA606/GoogleImages/data/images/a02e2af60a.jpg', '/content/gdrive/MyDrive/DATA606/GoogleImages/data/images/0dbbfbda0c.jpg', '/content/gdrive/MyDrive/DATA606/GoogleImages/data/images/6180ee6656.jpg', '/content/gdrive/MyDrive/DATA606/GoogleImages/data/images/97d557dffa.jpg', '/content/gdrive/MyDrive/DATA606/GoogleImages/data/images/f7ca10dca4.jpg', '/content/gdrive/MyDrive/DATA606/GoogleImages/data/images/55a30b06c9.jpg', '/content/gdrive/MyDrive/DATA606/GoogleImages/data/images/365bd39f76.jpg', '/content/gdrive/MyDrive/DATA606/GoogleImages/data/images/e8db1fc24a.jpg', '/content/gdrive/MyDrive/DATA606/GoogleImages/data/images/bcafb70b3e.jpg', '/content/gdrive/MyDrive/DATA606/GoogleImages/data/images/783f2517cb.jpg', '/content/gdrive/MyDrive/DATA606/GoogleImages/data/images/86e8db0b5f.jpg', '/content/gdrive/MyDrive/DATA606/GoogleImages/data/images/b9e8dfaf72.jpg', '/content/gdrive/MyDrive/DATA606/GoogleImages/data/images/e434f88f9e.jpg', '/content/gdrive/MyDrive/DATA606/GoogleImages/data/images/02454e17d0.jpg', '/content/gdrive/MyDrive/DATA606/GoogleImages/data/images/3468ccd165.jpg', '/content/gdrive/MyDrive/DATA606/GoogleImages/data/images/bcd94aea68.jpg', '/content/gdrive/MyDrive/DATA606/GoogleImages/data/images/b851c4641e.jpg', '/content/gdrive/MyDrive/DATA606/GoogleImages/data/images/a38bfb0f10.jpg', '/content/gdrive/MyDrive/DATA606/GoogleImages/data/images/6d12d370e5.jpg', '/content/gdrive/MyDrive/DATA606/GoogleImages/data/images/55d1b3d5d9.jpg', '/content/gdrive/MyDrive/DATA606/GoogleImages/data/images/6fabc5c9ef.jpg', '/content/gdrive/MyDrive/DATA606/GoogleImages/data/images/053e81e4f6.jpg', '/content/gdrive/MyDrive/DATA606/GoogleImages/data/images/9c20d049c7.jpg', '/content/gdrive/MyDrive/DATA606/GoogleImages/data/images/bfde4703bd.jpg', '/content/gdrive/MyDrive/DATA606/GoogleImages/data/images/375e0c64ca.jpg', '/content/gdrive/MyDrive/DATA606/GoogleImages/data/images/3668c60523.jpg', '/content/gdrive/MyDrive/DATA606/GoogleImages/data/images/78ec6dde5c.jpg', '/content/gdrive/MyDrive/DATA606/GoogleImages/data/images/3f0ea09cd2.jpg', '/content/gdrive/MyDrive/DATA606/GoogleImages/data/images/5acb601935.jpg', '/content/gdrive/MyDrive/DATA606/GoogleImages/data/images/46af7401cf.jpg', '/content/gdrive/MyDrive/DATA606/GoogleImages/data/images/d8f7527ab3.jpg', '/content/gdrive/MyDrive/DATA606/GoogleImages/data/images/1ae5ee85e0.jpg', '/content/gdrive/MyDrive/DATA606/GoogleImages/data/images/334f81ebdd.jpg', '/content/gdrive/MyDrive/DATA606/GoogleImages/data/images/e78c30eee6.jpg', '/content/gdrive/MyDrive/DATA606/GoogleImages/data/images/0090f02cab.jpg', '/content/gdrive/MyDrive/DATA606/GoogleImages/data/images/917ca3309a.jpg', '/content/gdrive/MyDrive/DATA606/GoogleImages/data/images/bfb15cbf18.jpg', '/content/gdrive/MyDrive/DATA606/GoogleImages/data/images/54c7c42eaf.jpg', '/content/gdrive/MyDrive/DATA606/GoogleImages/data/images/a804227330.jpg', '/content/gdrive/MyDrive/DATA606/GoogleImages/data/images/c1d56ad29f.jpg', '/content/gdrive/MyDrive/DATA606/GoogleImages/data/images/db28a7eac9.jpg', '/content/gdrive/MyDrive/DATA606/GoogleImages/data/images/b49db6ee71.jpg', '/content/gdrive/MyDrive/DATA606/GoogleImages/data/images/3cea6f3848.jpg', '/content/gdrive/MyDrive/DATA606/GoogleImages/data/images/89f74d0cfa.jpg', '/content/gdrive/MyDrive/DATA606/GoogleImages/data/images/e97a062365.jpg', '/content/gdrive/MyDrive/DATA606/GoogleImages/data/images/c55b31bec7.jpg', '/content/gdrive/MyDrive/DATA606/GoogleImages/data/images/c8bd8908fe.jpg', '/content/gdrive/MyDrive/DATA606/GoogleImages/data/images/b9945642df.jpg', '/content/gdrive/MyDrive/DATA606/GoogleImages/data/images/4f5073ce1a.jpg', '/content/gdrive/MyDrive/DATA606/GoogleImages/data/images/4c4d808fef.jpg', '/content/gdrive/MyDrive/DATA606/GoogleImages/data/images/3d23555402.jpg', '/content/gdrive/MyDrive/DATA606/GoogleImages/data/images/179a6c3340.jpg', '/content/gdrive/MyDrive/DATA606/GoogleImages/data/images/4513adf1cf.jpg', '/content/gdrive/MyDrive/DATA606/GoogleImages/data/images/3f4da8c385.jpg', '/content/gdrive/MyDrive/DATA606/GoogleImages/data/images/7616698e2f.jpg', '/content/gdrive/MyDrive/DATA606/GoogleImages/data/images/59de6d7f22.jpg', '/content/gdrive/MyDrive/DATA606/GoogleImages/data/images/38d67904a2.jpg', '/content/gdrive/MyDrive/DATA606/GoogleImages/data/images/6d3685be58.jpg', '/content/gdrive/MyDrive/DATA606/GoogleImages/data/images/58fedd072d.jpg', '/content/gdrive/MyDrive/DATA606/GoogleImages/data/images/e361078c22.jpg', '/content/gdrive/MyDrive/DATA606/GoogleImages/data/images/4e62be8d4e.jpg', '/content/gdrive/MyDrive/DATA606/GoogleImages/data/images/41e1ff5bee.jpg', '/content/gdrive/MyDrive/DATA606/GoogleImages/data/images/3f89606677.jpg', '/content/gdrive/MyDrive/DATA606/GoogleImages/data/images/e1be39bed8.jpg', '/content/gdrive/MyDrive/DATA606/GoogleImages/data/images/fd2cdc5661.jpg', '/content/gdrive/MyDrive/DATA606/GoogleImages/data/images/2786f66bdc.jpg', '/content/gdrive/MyDrive/DATA606/GoogleImages/data/images/37e1112a82.jpg', '/content/gdrive/MyDrive/DATA606/GoogleImages/data/images/9f8e1bb071.jpg', '/content/gdrive/MyDrive/DATA606/GoogleImages/data/images/6a8c9512ee.jpg', '/content/gdrive/MyDrive/DATA606/GoogleImages/data/images/233186d5d3.jpg', '/content/gdrive/MyDrive/DATA606/GoogleImages/data/images/747b633c41.jpg', '/content/gdrive/MyDrive/DATA606/GoogleImages/data/images/7c2c37811c.jpg', '/content/gdrive/MyDrive/DATA606/GoogleImages/data/images/a0056793fc.jpg', '/content/gdrive/MyDrive/DATA606/GoogleImages/data/images/b247ae9d0f.jpg', '/content/gdrive/MyDrive/DATA606/GoogleImages/data/images/8d904ed833.jpg', '/content/gdrive/MyDrive/DATA606/GoogleImages/data/images/47377ca0e6.jpg', '/content/gdrive/MyDrive/DATA606/GoogleImages/data/images/817d85e5ca.jpg', '/content/gdrive/MyDrive/DATA606/GoogleImages/data/images/570ea8d30b.jpg', '/content/gdrive/MyDrive/DATA606/GoogleImages/data/images/4157e791de.jpg', '/content/gdrive/MyDrive/DATA606/GoogleImages/data/images/18c794ff73.jpg', '/content/gdrive/MyDrive/DATA606/GoogleImages/data/images/6ecd51acb3.jpg', '/content/gdrive/MyDrive/DATA606/GoogleImages/data/images/ecaf97e3ee.jpg', '/content/gdrive/MyDrive/DATA606/GoogleImages/data/images/e08e38a578.jpg', '/content/gdrive/MyDrive/DATA606/GoogleImages/data/images/bd4eda31ec.jpg', '/content/gdrive/MyDrive/DATA606/GoogleImages/data/images/d068834e0e.jpg', '/content/gdrive/MyDrive/DATA606/GoogleImages/data/images/6556a6c13b.jpg', '/content/gdrive/MyDrive/DATA606/GoogleImages/data/images/ef0877d13c.jpg', '/content/gdrive/MyDrive/DATA606/GoogleImages/data/images/a5517f8cf3.jpg', '/content/gdrive/MyDrive/DATA606/GoogleImages/data/images/bae1c1a405.jpg', '/content/gdrive/MyDrive/DATA606/GoogleImages/data/images/23120b5301.jpg', '/content/gdrive/MyDrive/DATA606/GoogleImages/data/images/666375f63c.jpg', '/content/gdrive/MyDrive/DATA606/GoogleImages/data/images/1dda0f5961.jpg', '/content/gdrive/MyDrive/DATA606/GoogleImages/data/images/d8d41c2dfd.jpg', '/content/gdrive/MyDrive/DATA606/GoogleImages/data/images/e7df4c06ba.jpg', '/content/gdrive/MyDrive/DATA606/GoogleImages/data/images/3938a4977e.jpg', '/content/gdrive/MyDrive/DATA606/GoogleImages/data/images/ecebfed197.jpg', '/content/gdrive/MyDrive/DATA606/GoogleImages/data/images/1aad8c6286.jpg', '/content/gdrive/MyDrive/DATA606/GoogleImages/data/images/b5509f64d0.jpg', '/content/gdrive/MyDrive/DATA606/GoogleImages/data/images/a50de34191.jpg', '/content/gdrive/MyDrive/DATA606/GoogleImages/data/images/23523ff8a2.jpg', '/content/gdrive/MyDrive/DATA606/GoogleImages/data/images/fa6e13ddad.jpg', '/content/gdrive/MyDrive/DATA606/GoogleImages/data/images/2cd72e6632.jpg', '/content/gdrive/MyDrive/DATA606/GoogleImages/data/images/7eda098928.jpg', '/content/gdrive/MyDrive/DATA606/GoogleImages/data/images/6059d2f28b.jpg', '/content/gdrive/MyDrive/DATA606/GoogleImages/data/images/76a9dab6c5.jpg', '/content/gdrive/MyDrive/DATA606/GoogleImages/data/images/b15401e918.jpg', '/content/gdrive/MyDrive/DATA606/GoogleImages/data/images/f9eb99a239.jpg', '/content/gdrive/MyDrive/DATA606/GoogleImages/data/images/a93e582832.jpg', '/content/gdrive/MyDrive/DATA606/GoogleImages/data/images/e4b40138e7.jpg', '/content/gdrive/MyDrive/DATA606/GoogleImages/data/images/bedfc4dfdd.jpg', '/content/gdrive/MyDrive/DATA606/GoogleImages/data/images/207f9fe4c9.jpg', '/content/gdrive/MyDrive/DATA606/GoogleImages/data/images/8f51877e62.jpg', '/content/gdrive/MyDrive/DATA606/GoogleImages/data/images/93d5b54a4d.jpg', '/content/gdrive/MyDrive/DATA606/GoogleImages/data/images/acc680d2e2.jpg', '/content/gdrive/MyDrive/DATA606/GoogleImages/data/images/52d4b0ee73.jpg', '/content/gdrive/MyDrive/DATA606/GoogleImages/data/images/2731d603cd.jpg', '/content/gdrive/MyDrive/DATA606/GoogleImages/data/images/ffb2f7beeb.jpg', '/content/gdrive/MyDrive/DATA606/GoogleImages/data/images/694d2969f6.jpg', '/content/gdrive/MyDrive/DATA606/GoogleImages/data/images/b13fbba0a5.jpg', '/content/gdrive/MyDrive/DATA606/GoogleImages/data/images/390b160c27.jpg', '/content/gdrive/MyDrive/DATA606/GoogleImages/data/images/6fc75f708b.jpg', '/content/gdrive/MyDrive/DATA606/GoogleImages/data/images/8a3b4f9734.jpg', '/content/gdrive/MyDrive/DATA606/GoogleImages/data/images/c4357d9fb0.jpg', '/content/gdrive/MyDrive/DATA606/GoogleImages/data/images/6103bc5002.jpg', '/content/gdrive/MyDrive/DATA606/GoogleImages/data/images/0a4fa50ba0.jpg', '/content/gdrive/MyDrive/DATA606/GoogleImages/data/images/c0f71f73ea.jpg', '/content/gdrive/MyDrive/DATA606/GoogleImages/data/images/e50c759902.jpg', '/content/gdrive/MyDrive/DATA606/GoogleImages/data/images/dde38c06ad.jpg', '/content/gdrive/MyDrive/DATA606/GoogleImages/data/images/81175e9615.jpg', '/content/gdrive/MyDrive/DATA606/GoogleImages/data/images/30d4e3b0a3.jpg', '/content/gdrive/MyDrive/DATA606/GoogleImages/data/images/2ec3ab2855.jpg', '/content/gdrive/MyDrive/DATA606/GoogleImages/data/images/5c26c08fa3.jpg', '/content/gdrive/MyDrive/DATA606/GoogleImages/data/images/98f2e5ff3b.jpg', '/content/gdrive/MyDrive/DATA606/GoogleImages/data/images/d548d9a114.jpg', '/content/gdrive/MyDrive/DATA606/GoogleImages/data/images/6de3778085.jpg', '/content/gdrive/MyDrive/DATA606/GoogleImages/data/images/02ced4ca2d.jpg', '/content/gdrive/MyDrive/DATA606/GoogleImages/data/images/e17398b980.jpg', '/content/gdrive/MyDrive/DATA606/GoogleImages/data/images/131dc63927.jpg', '/content/gdrive/MyDrive/DATA606/GoogleImages/data/images/a7fb994290.jpg', '/content/gdrive/MyDrive/DATA606/GoogleImages/data/images/d33f5073b3.jpg', '/content/gdrive/MyDrive/DATA606/GoogleImages/data/images/84cb01758e.jpg', '/content/gdrive/MyDrive/DATA606/GoogleImages/data/images/42c088e89b.jpg', '/content/gdrive/MyDrive/DATA606/GoogleImages/data/images/38b4ab3b4d.jpg', '/content/gdrive/MyDrive/DATA606/GoogleImages/data/images/670de3420f.jpg', '/content/gdrive/MyDrive/DATA606/GoogleImages/data/images/fe31b60a41.jpg', '/content/gdrive/MyDrive/DATA606/GoogleImages/data/images/9bfeb5a3bb.jpg', '/content/gdrive/MyDrive/DATA606/GoogleImages/data/images/66cf140824.jpg', '/content/gdrive/MyDrive/DATA606/GoogleImages/data/images/253ab53a3b.jpg', '/content/gdrive/MyDrive/DATA606/GoogleImages/data/images/bc2c4a1842.jpg', '/content/gdrive/MyDrive/DATA606/GoogleImages/data/images/146152bf38.jpg', '/content/gdrive/MyDrive/DATA606/GoogleImages/data/images/258edabc77.jpg', '/content/gdrive/MyDrive/DATA606/GoogleImages/data/images/7ffb4f27ee.jpg', '/content/gdrive/MyDrive/DATA606/GoogleImages/data/images/92b0cf7610.jpg', '/content/gdrive/MyDrive/DATA606/GoogleImages/data/images/e282c3fd92.jpg', '/content/gdrive/MyDrive/DATA606/GoogleImages/data/images/2d9f181539.jpg', '/content/gdrive/MyDrive/DATA606/GoogleImages/data/images/23a725c7eb.jpg', '/content/gdrive/MyDrive/DATA606/GoogleImages/data/images/b360383745.jpg', '/content/gdrive/MyDrive/DATA606/GoogleImages/data/images/1bada15b44.jpg', '/content/gdrive/MyDrive/DATA606/GoogleImages/data/images/1a30cc1ac6.jpg']\n"
          ],
          "name": "stdout"
        }
      ]
    },
    {
      "cell_type": "code",
      "metadata": {
        "id": "rkuey6cgRfKy"
      },
      "source": [
        "# left to right , up down and rotation by 45 degrees for each image in the directory path\n",
        "for img in images:\n",
        "  image = io.imread(img)\n",
        "  last = img.split(\n",
        "      '/').pop() # image name \n",
        "\n",
        "# left to right flip\n",
        "  hflip=np.fliplr(image)\n",
        "  new_image_path_h= augmented_img+'/'+'h_'+last\n",
        "  trans_h_img = img_as_ubyte(hflip)  #Convert an image to unsigned byte format, with values in [0, 255].\n",
        "  trans_h_img=cv2.cvtColor(trans_h_img, cv2.COLOR_BGR2RGB) #convert image to RGB before saving it\n",
        "  cv2.imwrite(new_image_path_h, trans_h_img)\n",
        "\n",
        "# up down flip  \n",
        "  vflip = np.flipud(image)\n",
        "  new_image_path_v= augmented_img+'/'+'v_'+last\n",
        "  trans_v_img = img_as_ubyte(vflip)  #Convert an image to unsigned byte format, with values in [0, 255].\n",
        "  trans_v_img=cv2.cvtColor(trans_v_img, cv2.COLOR_BGR2RGB) #convert image to RGB before saving it\n",
        "  cv2.imwrite(new_image_path_v, trans_v_img)\n",
        "\n",
        "# rotating the image by 45 degrees\n",
        "  rotated = rotate(image, angle=45, mode = 'wrap')\n",
        "  new_image_path_r= augmented_img+'/'+'r_'+last\n",
        "  trans_r_img = img_as_ubyte(rotated)  #Convert an image to unsigned byte format, with values in [0, 255].\n",
        "  trans_r_img=cv2.cvtColor(trans_r_img, cv2.COLOR_BGR2RGB) #convert image to RGB before saving it\n",
        "  cv2.imwrite(new_image_path_r, trans_r_img)\n",
        "\n",
        "#https://towardsdatascience.com/image-augmentation-using-python-numpy-opencv-and-skimage-ef027e9898da"
      ],
      "execution_count": 44,
      "outputs": []
    }
  ]
}