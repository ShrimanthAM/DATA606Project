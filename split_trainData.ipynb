{
  "nbformat": 4,
  "nbformat_minor": 0,
  "metadata": {
    "colab": {
      "name": "split_trainData.ipynb",
      "provenance": [],
      "collapsed_sections": [],
      "mount_file_id": "1Ix3heHin1GdyPY_8qtZKeUPNlUq-ODMw",
      "authorship_tag": "ABX9TyNkqENlNGjrPnbsfXOKdIAq",
      "include_colab_link": true
    },
    "kernelspec": {
      "name": "python3",
      "display_name": "Python 3"
    },
    "language_info": {
      "name": "python"
    }
  },
  "cells": [
    {
      "cell_type": "markdown",
      "metadata": {
        "id": "view-in-github",
        "colab_type": "text"
      },
      "source": [
        "<a href=\"https://colab.research.google.com/github/ShrimanthAM/DATA606Project/blob/main/split_trainData.ipynb\" target=\"_parent\"><img src=\"https://colab.research.google.com/assets/colab-badge.svg\" alt=\"Open In Colab\"/></a>"
      ]
    },
    {
      "cell_type": "markdown",
      "metadata": {
        "id": "nRNWePOnKdZQ"
      },
      "source": [
        "## Python script to split the data to train and validation \n",
        " 80% - train\n",
        " 20% - test\n",
        "\n",
        " Total images - 1280"
      ]
    },
    {
      "cell_type": "code",
      "metadata": {
        "id": "ZjPcJIIKlGyK"
      },
      "source": [
        "import glob\n",
        "import os\n",
        "import numpy as np\n",
        "import sys"
      ],
      "execution_count": null,
      "outputs": []
    },
    {
      "cell_type": "code",
      "metadata": {
        "id": "W826DdNHlNS6"
      },
      "source": [
        "current_dir=\"/content/drive/MyDrive/DATA606/GoogleImages/data/images\"\n",
        "split_pct = 20 \n",
        "file_train = open(\"/content/drive/MyDrive/DATA606/GoogleImages/data/train.txt\",\"w\")\n",
        "file_val = open(\"/content/drive/MyDrive/DATA606/GoogleImages/data/val.txt\",\"w\")\n",
        "\n",
        "counter = 1 \n",
        "\n",
        "index_test = round(100 / split_pct)\n",
        "\n",
        "for fullpath in glob.iglob(os.path.join(current_dir,\"*.jpg\")):\n",
        "  title, ext = os.path.splitext(os.path.basename(fullpath))\n",
        "  if counter == index_test:\n",
        "    counter = 1\n",
        "    file_val.write(current_dir + \"/\" + title + '.jpg' + \"\\n\")\n",
        "  else:\n",
        "    file_train.write(current_dir + \"/\" + title + '.jpg' + \"\\n\")\n",
        "    counter = counter + 1\n",
        "file_train.close()\n",
        "file_val.close()"
      ],
      "execution_count": null,
      "outputs": []
    }
  ]
}